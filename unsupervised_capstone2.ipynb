{
 "cells": [
  {
   "cell_type": "code",
   "execution_count": 1,
   "metadata": {},
   "outputs": [],
   "source": [
    "import numpy as np\n",
    "import pandas as pd\n",
    "import scipy\n",
    "import sklearn\n",
    "import spacy\n",
    "import matplotlib.pyplot as plt\n",
    "%matplotlib inline\n",
    "import seaborn as sns\n",
    "sns.set()\n",
    "import re"
   ]
  },
  {
   "cell_type": "markdown",
   "metadata": {},
   "source": [
    "## Unsupervised Learning Capstone\n",
    "\n",
    "The goal for this project is to exercise and apply unsupervised learning techniques. To do this we are going to use spacys' unsupervised neural networks and word vector library to generate document vectors for each song in our data set. Then we are going to use supervised classifiers on our vectors to classify which genre a lyric comes from. Also we will use various clustering methods from sci kit learn to see if we can find any hiden data structure in our document vectors. We will also look at genre counts for each cluster to see if our clustering algorithims are picking up on the song genre, if they are not picking up on the genre labels then we will test the clusters across samples to see if they are consistant in the unlabeled data structures they find."
   ]
  },
  {
   "cell_type": "code",
   "execution_count": 2,
   "metadata": {
    "scrolled": true
   },
   "outputs": [
    {
     "data": {
      "text/html": [
       "<div>\n",
       "<style scoped>\n",
       "    .dataframe tbody tr th:only-of-type {\n",
       "        vertical-align: middle;\n",
       "    }\n",
       "\n",
       "    .dataframe tbody tr th {\n",
       "        vertical-align: top;\n",
       "    }\n",
       "\n",
       "    .dataframe thead th {\n",
       "        text-align: right;\n",
       "    }\n",
       "</style>\n",
       "<table border=\"1\" class=\"dataframe\">\n",
       "  <thead>\n",
       "    <tr style=\"text-align: right;\">\n",
       "      <th></th>\n",
       "      <th>index</th>\n",
       "      <th>song</th>\n",
       "      <th>year</th>\n",
       "      <th>artist</th>\n",
       "      <th>genre</th>\n",
       "      <th>lyrics</th>\n",
       "    </tr>\n",
       "  </thead>\n",
       "  <tbody>\n",
       "    <tr>\n",
       "      <th>0</th>\n",
       "      <td>0</td>\n",
       "      <td>ego-remix</td>\n",
       "      <td>2009</td>\n",
       "      <td>beyonce-knowles</td>\n",
       "      <td>Pop</td>\n",
       "      <td>Oh baby, how you doing?\\nYou know I'm gonna cu...</td>\n",
       "    </tr>\n",
       "    <tr>\n",
       "      <th>1</th>\n",
       "      <td>1</td>\n",
       "      <td>then-tell-me</td>\n",
       "      <td>2009</td>\n",
       "      <td>beyonce-knowles</td>\n",
       "      <td>Pop</td>\n",
       "      <td>playin' everything so easy,\\nit's like you see...</td>\n",
       "    </tr>\n",
       "    <tr>\n",
       "      <th>2</th>\n",
       "      <td>2</td>\n",
       "      <td>honesty</td>\n",
       "      <td>2009</td>\n",
       "      <td>beyonce-knowles</td>\n",
       "      <td>Pop</td>\n",
       "      <td>If you search\\nFor tenderness\\nIt isn't hard t...</td>\n",
       "    </tr>\n",
       "    <tr>\n",
       "      <th>3</th>\n",
       "      <td>3</td>\n",
       "      <td>you-are-my-rock</td>\n",
       "      <td>2009</td>\n",
       "      <td>beyonce-knowles</td>\n",
       "      <td>Pop</td>\n",
       "      <td>Oh oh oh I, oh oh oh I\\n[Verse 1:]\\nIf I wrote...</td>\n",
       "    </tr>\n",
       "    <tr>\n",
       "      <th>4</th>\n",
       "      <td>4</td>\n",
       "      <td>black-culture</td>\n",
       "      <td>2009</td>\n",
       "      <td>beyonce-knowles</td>\n",
       "      <td>Pop</td>\n",
       "      <td>Party the people, the people the party it's po...</td>\n",
       "    </tr>\n",
       "  </tbody>\n",
       "</table>\n",
       "</div>"
      ],
      "text/plain": [
       "   index             song  year           artist genre  \\\n",
       "0      0        ego-remix  2009  beyonce-knowles   Pop   \n",
       "1      1     then-tell-me  2009  beyonce-knowles   Pop   \n",
       "2      2          honesty  2009  beyonce-knowles   Pop   \n",
       "3      3  you-are-my-rock  2009  beyonce-knowles   Pop   \n",
       "4      4    black-culture  2009  beyonce-knowles   Pop   \n",
       "\n",
       "                                              lyrics  \n",
       "0  Oh baby, how you doing?\\nYou know I'm gonna cu...  \n",
       "1  playin' everything so easy,\\nit's like you see...  \n",
       "2  If you search\\nFor tenderness\\nIt isn't hard t...  \n",
       "3  Oh oh oh I, oh oh oh I\\n[Verse 1:]\\nIf I wrote...  \n",
       "4  Party the people, the people the party it's po...  "
      ]
     },
     "execution_count": 2,
     "metadata": {},
     "output_type": "execute_result"
    }
   ],
   "source": [
    "df = pd.read_csv('lyrics.csv')\n",
    "df.head()"
   ]
  },
  {
   "cell_type": "markdown",
   "metadata": {},
   "source": []
  },
  {
   "cell_type": "code",
   "execution_count": 3,
   "metadata": {},
   "outputs": [
    {
     "data": {
      "text/plain": [
       "(362237, 6)"
      ]
     },
     "execution_count": 3,
     "metadata": {},
     "output_type": "execute_result"
    }
   ],
   "source": [
    "df.shape"
   ]
  },
  {
   "cell_type": "code",
   "execution_count": 4,
   "metadata": {
    "scrolled": false
   },
   "outputs": [
    {
     "data": {
      "text/plain": [
       "index         0\n",
       "song          2\n",
       "year          0\n",
       "artist        0\n",
       "genre         0\n",
       "lyrics    95680\n",
       "dtype: int64"
      ]
     },
     "execution_count": 4,
     "metadata": {},
     "output_type": "execute_result"
    }
   ],
   "source": [
    "df.isnull().sum()"
   ]
  },
  {
   "cell_type": "code",
   "execution_count": 5,
   "metadata": {},
   "outputs": [
    {
     "data": {
      "image/png": "[encoded data removed]",
      "text/plain": [
       "<Figure size 720x576 with 1 Axes>"
      ]
     },
     "metadata": {},
     "output_type": "display_data"
    },
    {
     "name": "stdout",
     "output_type": "stream",
     "text": [
      "total observations: 141192\n"
     ]
    }
   ],
   "source": [
    "#Cleaning text, This should catch a lot of things spacys neural networks don't.\n",
    "def text_cleaner(text):\n",
    "    text = re.sub(r'--',' ',text)\n",
    "    # Get rid of headings in square brackets.\n",
    "    text = re.sub(\"[\\[].*?[\\]]\", \"\", text)\n",
    "    # Get rid of \\n.\n",
    "    text = re.sub(r\"\\n\", \" \", text)\n",
    "    # Get rid of extra whitespace.\n",
    "    text = ' '.join(text.split())\n",
    "    return text\n",
    "\n",
    "df.dropna(inplace=True)\n",
    "df.lyrics = df.lyrics.apply(text_cleaner)\n",
    "\n",
    "#Droping all rows with null values, the 10,000 rows with out lyrics can't be used\n",
    "#and the two rows with out song ids won't be missed\n",
    "#Also droping rows where lyrics were missing, but not NAN, and Rows where genre is not available/other\n",
    "df.dropna(inplace=True)\n",
    "df.drop((df[df.genre == 'Not Available'].index),inplace=True, axis=0)\n",
    "df.drop((df[df.genre == 'Other'].index),inplace=True, axis=0)\n",
    "df.drop((df[df.lyrics.str.len() < 1].index), inplace=True, axis=0)\n",
    "\n",
    "#Class balance is way off undersampling rock which represents about a third of our data set\n",
    "rock_index = df[df.genre == 'Rock'].index\n",
    "#select rows to drop\n",
    "random_indices = np.random.choice(rock_index, 95000, replace=False)\n",
    "#drop selected rows\n",
    "df.drop(random_indices, inplace=True, axis=0)\n",
    "\n",
    "plt.figure(figsize=(10,8))\n",
    "plt.title('Class balance')\n",
    "sns.countplot(x=\"genre\", data=df)\n",
    "plt.ylabel('Count')\n",
    "plt.xticks(rotation=45)\n",
    "plt.show()\n",
    "\n",
    "print('total observations:', df.shape[0])\n",
    "\n",
    "#for now reducing data set to 10,000 to save time\n",
    "#df = df.sample(15000, random_state=42)\n",
    "#df.reset_index(inplace=True, drop=True)\n",
    "#df.drop('index', inplace=True, axis=1)\n",
    "#df.shape"
   ]
  },
  {
   "cell_type": "code",
   "execution_count": 6,
   "metadata": {},
   "outputs": [
    {
     "name": "stdout",
     "output_type": "stream",
     "text": [
      "en       128829\n",
      "es         3968\n",
      "de         1772\n",
      "fr         1146\n",
      "id          984\n",
      "it          804\n",
      "ro          752\n",
      "pt          456\n",
      "sw          262\n",
      "no          251\n",
      "tr          250\n",
      "nl          249\n",
      "fi          203\n",
      "sv          195\n",
      "tl          162\n",
      "error       111\n",
      "so          105\n",
      "hr          101\n",
      "hu           97\n",
      "sq           84\n",
      "cy           70\n",
      "da           63\n",
      "ca           62\n",
      "af           58\n",
      "pl           53\n",
      "et           32\n",
      "sl           24\n",
      "lt           23\n",
      "vi           12\n",
      "sk            6\n",
      "cs            4\n",
      "ja            2\n",
      "lv            2\n",
      "Name: language, dtype: int64\n"
     ]
    },
    {
     "data": {
      "text/plain": [
       "(128829, 6)"
      ]
     },
     "execution_count": 6,
     "metadata": {},
     "output_type": "execute_result"
    }
   ],
   "source": [
    "#Language detection was out of the scope of this project so we're just doing a quick and dirty clean up\n",
    "#with pythons' langdetect package. Droping all rows where language was not english.\n",
    "from langdetect import detect\n",
    "\n",
    "def detect_try(text):\n",
    "    try:\n",
    "        return detect(text)\n",
    "    except:\n",
    "        return 'error'\n",
    "\n",
    "#Language column\n",
    "df['language'] = df.lyrics.apply(detect_try)\n",
    "print(df.language.value_counts())\n",
    "\n",
    "#droping language column and rows that aren't english\n",
    "df.drop((df[df.language != 'en'].index), inplace=True, axis=0)\n",
    "df.drop('language', inplace=True, axis=1)\n",
    "\n",
    "df.shape"
   ]
  },
  {
   "cell_type": "code",
   "execution_count": 7,
   "metadata": {
    "scrolled": false
   },
   "outputs": [
    {
     "data": {
      "text/plain": [
       "0    Oh baby, how you doing? You know I'm gonna cut right to the chase Some women were made but me, myself I like to think that I was created for a special purpose You know, what's more special than you? You feel me It's on baby, let's get lost You don't need to call into work 'cause you're the boss For real, want you to show me how you feel I consider myself lucky, that's a big deal Why? Well, you got the key to my heart But you ain't gonna need it, I'd rather you open up my body And show me sec...\n",
       "1    playin' everything so easy, it's like you seem so sure. still your ways, you dont see i'm not sure if they're for me. then things come right along our way, though we didn't truly ask. it seems as if they're gonna linger with every delight they bring, just like what you have truly seemed. i'm trying to think of what you really want to say, even through my darkest day. you might want to leave me, feeling strange about you like you're gonna let me know, when words then slipped out of you. when ...\n",
       "Name: lyrics, dtype: object"
      ]
     },
     "execution_count": 7,
     "metadata": {},
     "output_type": "execute_result"
    }
   ],
   "source": [
    "pd.set_option('display.max_colwidth', 500)\n",
    "df.lyrics.head(2)"
   ]
  },
  {
   "cell_type": "code",
   "execution_count": 28,
   "metadata": {},
   "outputs": [
    {
     "data": {
      "image/png": "[encoded data removed]",
      "text/plain": [
       "<Figure size 720x576 with 1 Axes>"
      ]
     },
     "metadata": {},
     "output_type": "display_data"
    },
    {
     "name": "stdout",
     "output_type": "stream",
     "text": [
      "total observations: 17820\n"
     ]
    }
   ],
   "source": [
    "#Fixing class balance\n",
    "indices_to_drop = []\n",
    "for X in df.genre.unique():\n",
    "    #get all indices for X genre\n",
    "    indices_x = df[df.genre == X].index\n",
    "    #how many to drop\n",
    "    num = (df.genre[df.genre == X].count()) - (df.genre.value_counts().min())\n",
    "    #sel\n",
    "    random_indices = list(np.random.choice(indices_x, num, replace=False))\n",
    "    indices_to_drop += random_indices\n",
    "    \n",
    "df.drop(indices_to_drop, inplace=True, axis=0)\n",
    "    \n",
    "plt.figure(figsize=(10,8))\n",
    "plt.title('Class balance')\n",
    "sns.countplot(x=\"genre\", data=df)\n",
    "plt.ylabel('Count')\n",
    "plt.xticks(rotation=45)\n",
    "plt.show()\n",
    "\n",
    "print('total observations:', df.shape[0])"
   ]
  },
  {
   "cell_type": "code",
   "execution_count": 29,
   "metadata": {
    "scrolled": false
   },
   "outputs": [],
   "source": [
    "#removing chained assignment warning\n",
    "pd.options.mode.chained_assignment = None\n",
    "\n",
    "#Loading the spacy english model\n",
    "#Using Spacy to parse lyrics and create docs\n",
    "#This spacy model has 1.1 million word vectors that will help us generate our doc vectors.\n",
    "nlp = spacy.load('en_vectors_web_lg')\n",
    "vectors = [] \n",
    "\n",
    "#Get vectors\n",
    "for doc in nlp.pipe(iter(df['lyrics']),batch_size=256):\n",
    "    vectors.append(doc.vector)\n",
    "\n",
    "#Create vector DF and concat to our original DF\n",
    "vector_df = pd.DataFrame(vectors)\n",
    "vector_df.reset_index(drop=True, inplace=True)\n",
    "df.reset_index(drop=True, inplace=True)\n",
    "df = pd.concat([df, vector_df], axis=1)"
   ]
  },
  {
   "cell_type": "code",
   "execution_count": 31,
   "metadata": {},
   "outputs": [],
   "source": [
    "def score_support(clf, X_train, y_train, X_test, y_test):\n",
    "    print('train score:', clf.score(X_train, y_train))\n",
    "    print('test score:', clf.score(X_test, y_test))\n",
    "\n",
    "X = df.loc[:,~df.columns.isin(['song', 'year', 'artist', 'genre', 'lyrics'])]\n",
    "y = df.loc[:,'genre']\n",
    "\n",
    "from sklearn.model_selection import train_test_split\n",
    "X_train, X_test, y_train, y_test = train_test_split(X, y, test_size=0.20, stratify=y, random_state=42)"
   ]
  },
  {
   "cell_type": "code",
   "execution_count": 32,
   "metadata": {},
   "outputs": [
    {
     "name": "stdout",
     "output_type": "stream",
     "text": [
      "train score: 0.0981341189674523\n",
      "test score: 0.09652076318742986\n"
     ]
    }
   ],
   "source": [
    "from sklearn.svm import LinearSVC\n",
    "\n",
    "svc = LinearSVC(C=1, random_state=42)\n",
    "svc.fit(X_train, y_train)\n",
    "\n",
    "score_support(svc, X_train, y_train, X_test, y_test)"
   ]
  },
  {
   "cell_type": "code",
   "execution_count": 33,
   "metadata": {},
   "outputs": [
    {
     "name": "stdout",
     "output_type": "stream",
     "text": [
      "train score: 1.0\n",
      "test score: 0.5642536475869809\n"
     ]
    }
   ],
   "source": [
    "from sklearn.ensemble import GradientBoostingClassifier\n",
    "\n",
    "gbc = GradientBoostingClassifier(max_depth=6, n_estimators=200, learning_rate=.1)\n",
    "gbc.fit(X_train, y_train)\n",
    "\n",
    "score_support(gbc, X_train, y_train, X_test, y_test)"
   ]
  },
  {
   "cell_type": "code",
   "execution_count": 34,
   "metadata": {},
   "outputs": [
    {
     "name": "stdout",
     "output_type": "stream",
     "text": [
      "train score: 1.0\n",
      "test score: 0.8538159371492705\n"
     ]
    }
   ],
   "source": [
    "from sklearn.neighbors import KNeighborsClassifier\n",
    "\n",
    "knn= KNeighborsClassifier(n_neighbors=10, weights='distance')\n",
    "knn.fit(X_train, y_train)\n",
    "\n",
    "score_support(knn, X_train, y_train, X_test, y_test)"
   ]
  },
  {
   "cell_type": "code",
   "execution_count": 35,
   "metadata": {},
   "outputs": [
    {
     "name": "stdout",
     "output_type": "stream",
     "text": [
      "train score: 0.09995791245791245\n",
      "test score: 0.10016835016835017\n"
     ]
    }
   ],
   "source": [
    "from sklearn.linear_model import LogisticRegression\n",
    "\n",
    "lr = LogisticRegression(C=5)\n",
    "lr.fit(X_train, y_train)\n",
    "\n",
    "score_support(lr, X_train, y_train, X_test, y_test)"
   ]
  },
  {
   "cell_type": "code",
   "execution_count": 37,
   "metadata": {},
   "outputs": [
    {
     "name": "stdout",
     "output_type": "stream",
     "text": [
      "train score: 0.1002384960718294\n",
      "test score: 0.09932659932659933\n"
     ]
    }
   ],
   "source": [
    "from sklearn.neural_network import MLPClassifier\n",
    "\n",
    "mlp = MLPClassifier(hidden_layer_sizes=(155,), max_iter=400)\n",
    "mlp.fit(X_train, y_train)\n",
    "\n",
    "score_support(mlp, X_train, y_train, X_test, y_test)"
   ]
  },
  {
   "cell_type": "code",
   "execution_count": null,
   "metadata": {
    "scrolled": false
   },
   "outputs": [],
   "source": []
  }
 ],
 "metadata": {
  "kernelspec": {
   "display_name": "Python 3",
   "language": "python",
   "name": "python3"
  },
  "language_info": {
   "codemirror_mode": {
    "name": "ipython",
    "version": 3
   },
   "file_extension": ".py",
   "mimetype": "text/x-python",
   "name": "python",
   "nbconvert_exporter": "python",
   "pygments_lexer": "ipython3",
   "version": "3.6.5"
  }
 },
 "nbformat": 4,
 "nbformat_minor": 2
}
