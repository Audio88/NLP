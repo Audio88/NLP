{
 "cells": [
  {
   "cell_type": "code",
   "execution_count": 18,
   "metadata": {},
   "outputs": [],
   "source": [
    "import numpy as np\n",
    "import pandas as pd\n",
    "import scipy\n",
    "import sklearn\n",
    "import spacy\n",
    "import matplotlib.pyplot as plt\n",
    "%matplotlib inline\n",
    "import seaborn as sns\n",
    "sns.set()\n",
    "import re\n",
    "\n",
    "from langdetect import detect\n",
    "from sklearn.feature_extraction.text import TfidfVectorizer\n",
    "from sklearn.decomposition import TruncatedSVD\n",
    "from sklearn.model_selection import train_test_split\n",
    "from sklearn.decomposition import PCA\n",
    "from sklearn.cluster import MeanShift, estimate_bandwidth, SpectralClustering, AffinityPropagation\n",
    "from sklearn.metrics import silhouette_score\n",
    "from sklearn.ensemble import GradientBoostingClassifier\n",
    "from sklearn.svm import LinearSVC\n",
    "from sklearn.neighbors import KNeighborsClassifier\n",
    "from sklearn.linear_model import LogisticRegression\n",
    "from sklearn.neural_network import MLPClassifier"
   ]
  },
  {
   "cell_type": "markdown",
   "metadata": {},
   "source": [
    "## Unsupervised Learning Capstone\n",
    "\n",
    "The goal for this project is to exercise and apply unsupervised learning techniques. To do this we are going to use spacys' unsupervised neural networks and word vector library to generate document vectors for each song in our data set. Then we are going to use supervised classifiers on our vectors to classify which genre a lyric comes from. Also we will use various clustering methods from sci kit learn to see if we can find any hiden data structure in our document vectors. We will also look at genre counts for each cluster to see if our clustering algorithims are picking up on the song genre, if they are not picking up on the genre labels then we will test the clusters across samples to see if they are consistant in the unlabeled data structures they find."
   ]
  },
  {
   "cell_type": "code",
   "execution_count": 2,
   "metadata": {
    "scrolled": true
   },
   "outputs": [
    {
     "data": {
      "text/html": [
       "<div>\n",
       "<style scoped>\n",
       "    .dataframe tbody tr th:only-of-type {\n",
       "        vertical-align: middle;\n",
       "    }\n",
       "\n",
       "    .dataframe tbody tr th {\n",
       "        vertical-align: top;\n",
       "    }\n",
       "\n",
       "    .dataframe thead th {\n",
       "        text-align: right;\n",
       "    }\n",
       "</style>\n",
       "<table border=\"1\" class=\"dataframe\">\n",
       "  <thead>\n",
       "    <tr style=\"text-align: right;\">\n",
       "      <th></th>\n",
       "      <th>index</th>\n",
       "      <th>song</th>\n",
       "      <th>year</th>\n",
       "      <th>artist</th>\n",
       "      <th>genre</th>\n",
       "      <th>lyrics</th>\n",
       "    </tr>\n",
       "  </thead>\n",
       "  <tbody>\n",
       "    <tr>\n",
       "      <th>0</th>\n",
       "      <td>0</td>\n",
       "      <td>ego-remix</td>\n",
       "      <td>2009</td>\n",
       "      <td>beyonce-knowles</td>\n",
       "      <td>Pop</td>\n",
       "      <td>Oh baby, how you doing?\\nYou know I'm gonna cu...</td>\n",
       "    </tr>\n",
       "    <tr>\n",
       "      <th>1</th>\n",
       "      <td>1</td>\n",
       "      <td>then-tell-me</td>\n",
       "      <td>2009</td>\n",
       "      <td>beyonce-knowles</td>\n",
       "      <td>Pop</td>\n",
       "      <td>playin' everything so easy,\\nit's like you see...</td>\n",
       "    </tr>\n",
       "    <tr>\n",
       "      <th>2</th>\n",
       "      <td>2</td>\n",
       "      <td>honesty</td>\n",
       "      <td>2009</td>\n",
       "      <td>beyonce-knowles</td>\n",
       "      <td>Pop</td>\n",
       "      <td>If you search\\nFor tenderness\\nIt isn't hard t...</td>\n",
       "    </tr>\n",
       "    <tr>\n",
       "      <th>3</th>\n",
       "      <td>3</td>\n",
       "      <td>you-are-my-rock</td>\n",
       "      <td>2009</td>\n",
       "      <td>beyonce-knowles</td>\n",
       "      <td>Pop</td>\n",
       "      <td>Oh oh oh I, oh oh oh I\\n[Verse 1:]\\nIf I wrote...</td>\n",
       "    </tr>\n",
       "    <tr>\n",
       "      <th>4</th>\n",
       "      <td>4</td>\n",
       "      <td>black-culture</td>\n",
       "      <td>2009</td>\n",
       "      <td>beyonce-knowles</td>\n",
       "      <td>Pop</td>\n",
       "      <td>Party the people, the people the party it's po...</td>\n",
       "    </tr>\n",
       "  </tbody>\n",
       "</table>\n",
       "</div>"
      ],
      "text/plain": [
       "   index             song  year           artist genre  \\\n",
       "0      0        ego-remix  2009  beyonce-knowles   Pop   \n",
       "1      1     then-tell-me  2009  beyonce-knowles   Pop   \n",
       "2      2          honesty  2009  beyonce-knowles   Pop   \n",
       "3      3  you-are-my-rock  2009  beyonce-knowles   Pop   \n",
       "4      4    black-culture  2009  beyonce-knowles   Pop   \n",
       "\n",
       "                                              lyrics  \n",
       "0  Oh baby, how you doing?\\nYou know I'm gonna cu...  \n",
       "1  playin' everything so easy,\\nit's like you see...  \n",
       "2  If you search\\nFor tenderness\\nIt isn't hard t...  \n",
       "3  Oh oh oh I, oh oh oh I\\n[Verse 1:]\\nIf I wrote...  \n",
       "4  Party the people, the people the party it's po...  "
      ]
     },
     "execution_count": 2,
     "metadata": {},
     "output_type": "execute_result"
    }
   ],
   "source": [
    "df = pd.read_csv('lyrics.csv')\n",
    "df.head()"
   ]
  },
  {
   "cell_type": "markdown",
   "metadata": {},
   "source": []
  },
  {
   "cell_type": "code",
   "execution_count": 3,
   "metadata": {},
   "outputs": [
    {
     "data": {
      "text/plain": [
       "(362237, 6)"
      ]
     },
     "execution_count": 3,
     "metadata": {},
     "output_type": "execute_result"
    }
   ],
   "source": [
    "df.shape"
   ]
  },
  {
   "cell_type": "code",
   "execution_count": 4,
   "metadata": {
    "scrolled": false
   },
   "outputs": [
    {
     "data": {
      "text/plain": [
       "index         0\n",
       "song          2\n",
       "year          0\n",
       "artist        0\n",
       "genre         0\n",
       "lyrics    95680\n",
       "dtype: int64"
      ]
     },
     "execution_count": 4,
     "metadata": {},
     "output_type": "execute_result"
    }
   ],
   "source": [
    "df.isnull().sum()"
   ]
  },
  {
   "cell_type": "code",
   "execution_count": 5,
   "metadata": {},
   "outputs": [
    {
     "data": {
      "image/png": "[encoded data removed]",
      "text/plain": [
       "<Figure size 720x576 with 1 Axes>"
      ]
     },
     "metadata": {},
     "output_type": "display_data"
    },
    {
     "name": "stdout",
     "output_type": "stream",
     "text": [
      "total observations: 136192\n"
     ]
    }
   ],
   "source": [
    "#Cleaning text, This should catch a lot of things spacys neural networks don't.\n",
    "def text_cleaner(text):\n",
    "    text = re.sub(r'--',' ',text)\n",
    "    # Get rid of headings in square brackets.\n",
    "    text = re.sub(\"[\\[].*?[\\]]\", \"\", text)\n",
    "    # Get rid of \\n.\n",
    "    text = re.sub(r\"\\n\", \" \", text)\n",
    "    # Get rid of extra whitespace.\n",
    "    text = ' '.join(text.split())\n",
    "    return text\n",
    "\n",
    "df.dropna(inplace=True)\n",
    "df.lyrics = df.lyrics.apply(text_cleaner)\n",
    "\n",
    "#Droping all rows with null values, the 10,000 rows with out lyrics can't be used\n",
    "#and the two rows with out song ids won't be missed\n",
    "#Also droping rows where lyrics were missing, but not NAN, and Rows where genre is not available/other\n",
    "df.dropna(inplace=True)\n",
    "df.drop((df[df.genre == 'Not Available'].index),inplace=True, axis=0)\n",
    "df.drop((df[df.genre == 'Other'].index),inplace=True, axis=0)\n",
    "df.drop((df[df.lyrics.str.len() < 1].index), inplace=True, axis=0)\n",
    "\n",
    "#Class balance is way off undersampling rock which represents about a third of our data set\n",
    "rock_index = df[df.genre == 'Rock'].index\n",
    "#select rows to drop\n",
    "random_indices = np.random.choice(rock_index, 105000, replace=False)\n",
    "#drop selected rows\n",
    "df.drop(random_indices, inplace=True, axis=0)\n",
    "\n",
    "#for now reducing data set to 10,000 to save time\n",
    "#df = df.sample(50000, random_state=42)\n",
    "#df.reset_index(inplace=True, drop=True)\n",
    "#df.drop('index', inplace=True, axis=1)\n",
    "\n",
    "plt.figure(figsize=(10,8))\n",
    "plt.title('Class balance')\n",
    "sns.countplot(x=\"genre\", data=df)\n",
    "plt.ylabel('Count')\n",
    "plt.xticks(rotation=45)\n",
    "plt.show()\n",
    "\n",
    "print('total observations:', df.shape[0])"
   ]
  },
  {
   "cell_type": "code",
   "execution_count": 6,
   "metadata": {},
   "outputs": [
    {
     "name": "stdout",
     "output_type": "stream",
     "text": [
      "en       124143\n",
      "es         3840\n",
      "de         1756\n",
      "fr         1138\n",
      "id          960\n",
      "it          795\n",
      "ro          732\n",
      "pt          447\n",
      "tr          245\n",
      "no          241\n",
      "sw          241\n",
      "nl          238\n",
      "fi          201\n",
      "sv          198\n",
      "tl          157\n",
      "so          103\n",
      "hr           96\n",
      "hu           92\n",
      "sq           88\n",
      "error        85\n",
      "cy           71\n",
      "da           67\n",
      "ca           64\n",
      "af           56\n",
      "pl           51\n",
      "et           26\n",
      "sl           24\n",
      "lt           19\n",
      "vi            8\n",
      "sk            4\n",
      "cs            3\n",
      "lv            2\n",
      "ja            1\n",
      "Name: language, dtype: int64\n"
     ]
    },
    {
     "data": {
      "text/plain": [
       "(124143, 6)"
      ]
     },
     "execution_count": 6,
     "metadata": {},
     "output_type": "execute_result"
    }
   ],
   "source": [
    "#Language detection was out of the scope of this project so we're just doing a quick and dirty clean up\n",
    "#with pythons' langdetect package. Droping all rows where language was not english.\n",
    "def detect_try(text):\n",
    "    try:\n",
    "        return detect(text)\n",
    "    except:\n",
    "        return 'error'\n",
    "\n",
    "#Language column\n",
    "df['language'] = df.lyrics.apply(detect_try)\n",
    "print(df.language.value_counts())\n",
    "\n",
    "#droping language column and rows that aren't english\n",
    "df.drop((df[df.language != 'en'].index), inplace=True, axis=0)\n",
    "df.drop('language', inplace=True, axis=1)\n",
    "\n",
    "df.shape"
   ]
  },
  {
   "cell_type": "code",
   "execution_count": 7,
   "metadata": {},
   "outputs": [
    {
     "data": {
      "image/png": "[encoded data removed]",
      "text/plain": [
       "<Figure size 720x576 with 1 Axes>"
      ]
     },
     "metadata": {},
     "output_type": "display_data"
    },
    {
     "name": "stdout",
     "output_type": "stream",
     "text": [
      "total observations: 17800\n"
     ]
    }
   ],
   "source": [
    "#Fixing class balance with undersampling\n",
    "indices_to_drop = []\n",
    "\n",
    "for X in df.genre.unique():\n",
    "    #get all indices for X genre\n",
    "    indices_x = df[df.genre == X].index\n",
    "    #how many to drop\n",
    "    num = len(indices_x) - (df.genre.value_counts().min())\n",
    "    #randomly select indeces to drop\n",
    "    random_indices = list(np.random.choice(indices_x, num, replace=False))\n",
    "    indices_to_drop += random_indices\n",
    "    \n",
    "df.drop(indices_to_drop, inplace=True, axis=0)\n",
    "    \n",
    "plt.figure(figsize=(10,8))\n",
    "plt.title('Class balance')\n",
    "sns.countplot(x=\"genre\", data=df)\n",
    "plt.ylabel('Count')\n",
    "plt.xticks(rotation=45)\n",
    "plt.show()\n",
    "\n",
    "print('total observations:', df.shape[0])\n",
    "print('Per Class:', df.shape[0] / 10)"
   ]
  },
  {
   "cell_type": "code",
   "execution_count": 8,
   "metadata": {
    "scrolled": false
   },
   "outputs": [],
   "source": [
    "#removing chained assignment warning\n",
    "pd.options.mode.chained_assignment = None\n",
    "\n",
    "#method for getting Lemmas from our Spacy Docs for TFIDF\n",
    "def doc2lemmas(nlpdoc):\n",
    "    doc = []\n",
    "    for token in nlpdoc:\n",
    "        if token.lemma_ == '-PRON-':\n",
    "            doc.append(token.text)\n",
    "        elif token.is_punct:\n",
    "            pass\n",
    "        else:\n",
    "            doc.append(token.lemma_)\n",
    "    doc = ' '.join(doc)\n",
    "    return doc\n",
    "\n",
    "\n",
    "#This spacy model has 1.1 million word embeddings that will help us generate our doc vectors.\n",
    "#Get vectors\n",
    "nlp = spacy.load('en_vectors_web_lg')\n",
    "vectors = [] \n",
    "\n",
    "for doc in nlp.pipe(iter(df['lyrics']),batch_size=256):\n",
    "    vectors.append(doc.vector)\n",
    "\n",
    "#Get lemmas\n",
    "nlp = spacy.load('en')\n",
    "sentences = []\n",
    "\n",
    "for doc in nlp.pipe(iter(df['lyrics']),batch_size=256):\n",
    "    sentences.append(doc2lemmas(doc))\n",
    "\n",
    "#column of lemmas\n",
    "df['lemmas'] = sentences\n",
    "df.lemmas.head()\n",
    "\n",
    "##Create vector DF and concat to our original DF\n",
    "vector_df = pd.DataFrame(vectors)\n",
    "vector_df.reset_index(drop=True, inplace=True)\n",
    "df.reset_index(drop=True, inplace=True)\n",
    "df = pd.concat([df, vector_df], axis=1)"
   ]
  },
  {
   "cell_type": "code",
   "execution_count": 9,
   "metadata": {
    "scrolled": true
   },
   "outputs": [
    {
     "data": {
      "text/plain": [
       "0    oh oh oh I oh oh oh I if I write a book about ...\n",
       "1    party the people the people the party it be po...\n",
       "Name: lemmas, dtype: object"
      ]
     },
     "execution_count": 9,
     "metadata": {},
     "output_type": "execute_result"
    }
   ],
   "source": [
    "df.lemmas.head(2)"
   ]
  },
  {
   "cell_type": "code",
   "execution_count": 10,
   "metadata": {},
   "outputs": [
    {
     "data": {
      "text/plain": [
       "0    Oh oh oh I, oh oh oh I If I wrote a book about...\n",
       "1    Party the people, the people the party it's po...\n",
       "Name: lyrics, dtype: object"
      ]
     },
     "execution_count": 10,
     "metadata": {},
     "output_type": "execute_result"
    }
   ],
   "source": [
    "df.lyrics.head(2)"
   ]
  },
  {
   "cell_type": "code",
   "execution_count": 11,
   "metadata": {},
   "outputs": [],
   "source": [
    "def model_support(clf, X_train, y_train, X_test, y_test, X_train_tfidf, X_test_tfidf):\n",
    "    clf.fit(X_train, y_train)\n",
    "    print(clf.score(X_train, y_train), ':word embedings train score')\n",
    "    print(clf.score(X_test, y_test), ':word embedings test score')\n",
    "    clf.fit(X_train_tfidf, y_train)\n",
    "    print(clf.score(X_train_tfidf, y_train), ':tfidf w/ LSA train score')\n",
    "    print(clf.score(X_test_tfidf, y_test), ':tfidf  w/ LSA test score')\n",
    "\n",
    "\n",
    "#Transform lemmas into TF-IDF\n",
    "vectorizer = TfidfVectorizer(\n",
    "    max_df=0.5,\n",
    "    min_df=2, stop_words='english',\n",
    "    lowercase=True, use_idf=True,norm=u'l2',\n",
    "    smooth_idf=True\n",
    ")\n",
    "X_tfidf = vectorizer.fit_transform(df.lemmas)\n",
    "\n",
    "#Latent Semantic Analysis on TF-IDF\n",
    "svd = TruncatedSVD(500)\n",
    "X_tfidf = svd.fit_transform(X_tfidf)\n",
    "\n",
    "#word2vec Data\n",
    "X = df.loc[:,~df.columns.isin(['index', 'song', 'year', 'artist', 'genre', 'lyrics', 'lemmas'])]\n",
    "y = df.loc[:,'genre']\n",
    "\n",
    "#Split embeddings and tfidf with same random seed\n",
    "X_train, X_test, y_train, y_test = train_test_split(X, y, test_size=0.20, stratify=y, random_state=42)\n",
    "X_train_tfidf, X_test_tfidf = train_test_split(X_tfidf, test_size=0.20, stratify=y, random_state=42)"
   ]
  },
  {
   "cell_type": "code",
   "execution_count": 13,
   "metadata": {},
   "outputs": [
    {
     "name": "stdout",
     "output_type": "stream",
     "text": [
      "0.4434691011235955 :word embedings train score\n",
      "0.39353932584269663 :word embedings test score\n",
      "0.45568820224719103 :tfidf w/ LSA train score\n",
      "0.3724719101123595 :tfidf  w/ LSA test score\n"
     ]
    }
   ],
   "source": [
    "svc = LinearSVC(C=1, random_state=42)\n",
    "\n",
    "model_support(svc, X_train, y_train, X_test, y_test, X_train_tfidf, X_test_tfidf)"
   ]
  },
  {
   "cell_type": "code",
   "execution_count": 14,
   "metadata": {},
   "outputs": [
    {
     "name": "stdout",
     "output_type": "stream",
     "text": [
      "0.9948033707865168 :word embedings train score\n",
      "0.3901685393258427 :word embedings test score\n",
      "0.9725421348314607 :tfidf w/ LSA train score\n",
      "0.35280898876404493 :tfidf  w/ LSA test score\n"
     ]
    }
   ],
   "source": [
    "gbc = GradientBoostingClassifier(max_depth=6, n_estimators=100, learning_rate=.1)\n",
    "\n",
    "model_support(gbc, X_train, y_train, X_test, y_test, X_train_tfidf, X_test_tfidf)"
   ]
  },
  {
   "cell_type": "code",
   "execution_count": 15,
   "metadata": {},
   "outputs": [
    {
     "name": "stdout",
     "output_type": "stream",
     "text": [
      "0.9973314606741573 :word embedings train score\n",
      "0.31797752808988766 :word embedings test score\n",
      "0.9969803370786516 :tfidf w/ LSA train score\n",
      "0.2601123595505618 :tfidf  w/ LSA test score\n"
     ]
    }
   ],
   "source": [
    "knn = KNeighborsClassifier(n_neighbors=9, weights='distance')\n",
    "\n",
    "model_support(knn, X_train, y_train, X_test, y_test, X_train_tfidf, X_test_tfidf)"
   ]
  },
  {
   "cell_type": "code",
   "execution_count": 16,
   "metadata": {},
   "outputs": [
    {
     "name": "stdout",
     "output_type": "stream",
     "text": [
      "0.44592696629213485 :word embedings train score\n",
      "0.40224719101123596 :word embedings test score\n",
      "0.46390449438202247 :tfidf w/ LSA train score\n",
      "0.3797752808988764 :tfidf  w/ LSA test score\n"
     ]
    }
   ],
   "source": [
    "lr = LogisticRegression(C=5)\n",
    "\n",
    "model_support(lr, X_train, y_train, X_test, y_test, X_train_tfidf, X_test_tfidf)"
   ]
  },
  {
   "cell_type": "code",
   "execution_count": 19,
   "metadata": {},
   "outputs": [
    {
     "name": "stdout",
     "output_type": "stream",
     "text": [
      "0.7177668539325842 :word embedings train score\n",
      "0.38679775280898876 :word embedings test score\n",
      "0.994311797752809 :tfidf w/ LSA train score\n",
      "0.3654494382022472 :tfidf  w/ LSA test score\n"
     ]
    }
   ],
   "source": [
    "mlp = MLPClassifier(hidden_layer_sizes=(155,), max_iter=400)\n",
    "\n",
    "model_support(mlp, X_train, y_train, X_test, y_test, X_train_tfidf, X_test_tfidf)"
   ]
  },
  {
   "cell_type": "code",
   "execution_count": 108,
   "metadata": {},
   "outputs": [],
   "source": [
    "from sklearn.decomposition import PCA\n",
    "pca = PCA(n_components=2)\n",
    "X_pca = pca.fit_transform(X)\n",
    "X_pca = np.hstack((X_pca, y[:,None]))\n",
    "#from sklearn.preprocessing import LabelEncoder\n",
    "#enc = LabelEncoder()\n",
    "#y_num = enc.fit_transform(y)\n",
    "#X_pca = np.hstack((X_pca, y_num[:,None]))\n",
    "\n",
    "X_pca = pd.DataFrame(X_pca, columns=['PCA Feature 1', 'PCA Feature 2', 'genre'])"
   ]
  },
  {
   "cell_type": "code",
   "execution_count": 111,
   "metadata": {},
   "outputs": [
    {
     "data": {
      "text/plain": [
       "array([0.18262718, 0.10687937])"
      ]
     },
     "execution_count": 111,
     "metadata": {},
     "output_type": "execute_result"
    }
   ],
   "source": [
    "pca.explained_variance_"
   ]
  },
  {
   "cell_type": "code",
   "execution_count": 129,
   "metadata": {
    "scrolled": false
   },
   "outputs": [
    {
     "data": {
      "image/png": "[encoded data removed]",
      "text/plain": [
       "<Figure size 440.125x360 with 1 Axes>"
      ]
     },
     "metadata": {},
     "output_type": "display_data"
    }
   ],
   "source": [
    "#plot data with seaborn\n",
    "sns.lmplot(data=X_pca, x='PCA Feature 1', y='PCA Feature 2', hue='genre', fit_reg=False)\n",
    "plt.title('Songs')\n",
    "plt.show()"
   ]
  },
  {
   "cell_type": "code",
   "execution_count": 136,
   "metadata": {},
   "outputs": [
    {
     "data": {
      "text/plain": [
       "2"
      ]
     },
     "execution_count": 136,
     "metadata": {},
     "output_type": "execute_result"
    }
   ],
   "source": [
    "from sklearn.cluster import MeanShift, estimate_bandwidth, SpectralClustering, AffinityPropagation\n",
    "from sklearn.metrics import silhouette_score\n",
    "\n",
    "bandwidth = estimate_bandwidth(X, quantile=.3, n_samples=1000, random_state=42)\n",
    "\n",
    "ms = MeanShift(bandwidth=bandwidth, bin_seeding=True)\n",
    "ms.fit(X)\n",
    "\n",
    "labels = ms.labels_\n",
    "len(np.unique(labels))"
   ]
  },
  {
   "cell_type": "code",
   "execution_count": 148,
   "metadata": {},
   "outputs": [
    {
     "name": "stdout",
     "output_type": "stream",
     "text": [
      "Comparing the assigned categories to the ones in the data:\n",
      "col_0         0    1    2    3    4    5    6    7    8    9\n",
      "genre                                                       \n",
      "Country     170  286   53   75  159  235  124  306  167  205\n",
      "Electronic  198  232   46  269  186  204  129  231  183  102\n",
      "Folk        199  106   56  209   68  153   78  216  393  302\n",
      "Hip-Hop      31   56  735   83  181   32  333   80   45  204\n",
      "Indie       212  264   26   74  145  284   84  299  239  153\n",
      "Jazz        149  225   58  143  228  195  166  263  159  194\n",
      "Metal       292   86   19  178   48  145   41  147  695  129\n",
      "Pop         141  357   58  122  289  204  195  230  100   84\n",
      "R&B         110  314   51  111  355  170  265  209   90  105\n",
      "Rock        212  244   42  113  161  244  139  244  229  152\n",
      "Counts in for each clsuter label in order: [1714 2170 1144 1377 1820 1866 1554 2225 2300 1630]\n"
     ]
    }
   ],
   "source": [
    "from sklearn.cluster import SpectralClustering\n",
    "\n",
    "n_clusters=10\n",
    "\n",
    "sc = SpectralClustering(n_clusters=n_clusters)\n",
    "sc.fit(X)\n",
    "\n",
    "predict=sc.fit_predict(X)\n",
    "\n",
    "print('Comparing the assigned categories to the ones in the data:')\n",
    "print(pd.crosstab(y, predict))\n",
    "print('Counts for each clsuter label in order:', np.unique(predict, return_counts=True)[1])"
   ]
  },
  {
   "cell_type": "code",
   "execution_count": 150,
   "metadata": {},
   "outputs": [
    {
     "data": {
      "text/plain": [
       "0.04080770339988055"
      ]
     },
     "execution_count": 150,
     "metadata": {},
     "output_type": "execute_result"
    }
   ],
   "source": [
    "from sklearn.metrics import adjusted_rand_score\n",
    "    \n",
    "adjusted_rand_score(y, predict)"
   ]
  },
  {
   "cell_type": "code",
   "execution_count": 149,
   "metadata": {},
   "outputs": [
    {
     "name": "stdout",
     "output_type": "stream",
     "text": [
      "Done\n",
      "Estimated number of clusters: 868\n"
     ]
    }
   ],
   "source": [
    "from sklearn.cluster import AffinityPropagation\n",
    "\n",
    "af = AffinityPropagation().fit(X)\n",
    "\n",
    "cluster_centers_indices = af.cluster_centers_indices_\n",
    "n_clusters_ = len(cluster_centers_indices)\n",
    "labels = af.labels_\n",
    "\n",
    "print('number of clusters: {}'.format(n_clusters_))"
   ]
  },
  {
   "cell_type": "code",
   "execution_count": null,
   "metadata": {},
   "outputs": [],
   "source": []
  }
 ],
 "metadata": {
  "kernelspec": {
   "display_name": "Python 3",
   "language": "python",
   "name": "python3"
  },
  "language_info": {
   "codemirror_mode": {
    "name": "ipython",
    "version": 3
   },
   "file_extension": ".py",
   "mimetype": "text/x-python",
   "name": "python",
   "nbconvert_exporter": "python",
   "pygments_lexer": "ipython3",
   "version": "3.6.5"
  }
 },
 "nbformat": 4,
 "nbformat_minor": 2
}
