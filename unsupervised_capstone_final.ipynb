{
 "cells": [
  {
   "cell_type": "code",
   "execution_count": 1,
   "metadata": {},
   "outputs": [],
   "source": [
    "import numpy as np\n",
    "import pandas as pd\n",
    "import scipy\n",
    "import sklearn\n",
    "import spacy\n",
    "import matplotlib.pyplot as plt\n",
    "%matplotlib inline\n",
    "import seaborn as sns\n",
    "sns.set()\n",
    "import re\n",
    "\n",
    "from langdetect import detect\n",
    "from sklearn.feature_extraction.text import TfidfVectorizer\n",
    "from sklearn.decomposition import TruncatedSVD\n",
    "from sklearn.model_selection import train_test_split\n",
    "from sklearn.decomposition import PCA\n",
    "from sklearn.cluster import MeanShift, estimate_bandwidth, SpectralClustering, AffinityPropagation\n",
    "from sklearn.metrics import silhouette_score\n",
    "from sklearn.ensemble import GradientBoostingClassifier\n",
    "from sklearn.svm import LinearSVC\n",
    "from sklearn.neighbors import KNeighborsClassifier\n",
    "from sklearn.linear_model import LogisticRegression\n",
    "from sklearn.neural_network import MLPClassifier"
   ]
  },
  {
   "cell_type": "markdown",
   "metadata": {},
   "source": [
    "## Unsupervised Learning Capstone\n",
    "\n",
    "  The goal for this project is to exercise and apply unsupervised learning techniques. To do this we are going to use spacys' unsupervised neural networks and word vector library to generate document vectors out of word embeddings for each song in our data set. We will also generate term frequency - inverse document frequency vectors, and use latent semantic analysis on those vectors to reduce our feature space. Then we are going to use supervised classifiers on our vectors to classify which genre a lyric comes from, and see which vectors have the best performance. \n",
    "\n",
    "   Also we will use various clustering methods from sci kit learn to see if we can find any hiden data structure in our document vectors. We will also look at genre counts for each cluster to see if our clusters are picking up on the song genre, if they are not picking up on the genre labels then we will test the clusters for similarity using silhouette coeffecient."
   ]
  },
  {
   "cell_type": "code",
   "execution_count": 2,
   "metadata": {
    "scrolled": true
   },
   "outputs": [
    {
     "data": {
      "text/html": [
       "<div>\n",
       "<style scoped>\n",
       "    .dataframe tbody tr th:only-of-type {\n",
       "        vertical-align: middle;\n",
       "    }\n",
       "\n",
       "    .dataframe tbody tr th {\n",
       "        vertical-align: top;\n",
       "    }\n",
       "\n",
       "    .dataframe thead th {\n",
       "        text-align: right;\n",
       "    }\n",
       "</style>\n",
       "<table border=\"1\" class=\"dataframe\">\n",
       "  <thead>\n",
       "    <tr style=\"text-align: right;\">\n",
       "      <th></th>\n",
       "      <th>index</th>\n",
       "      <th>song</th>\n",
       "      <th>year</th>\n",
       "      <th>artist</th>\n",
       "      <th>genre</th>\n",
       "      <th>lyrics</th>\n",
       "    </tr>\n",
       "  </thead>\n",
       "  <tbody>\n",
       "    <tr>\n",
       "      <th>0</th>\n",
       "      <td>0</td>\n",
       "      <td>ego-remix</td>\n",
       "      <td>2009</td>\n",
       "      <td>beyonce-knowles</td>\n",
       "      <td>Pop</td>\n",
       "      <td>Oh baby, how you doing?\\nYou know I'm gonna cu...</td>\n",
       "    </tr>\n",
       "    <tr>\n",
       "      <th>1</th>\n",
       "      <td>1</td>\n",
       "      <td>then-tell-me</td>\n",
       "      <td>2009</td>\n",
       "      <td>beyonce-knowles</td>\n",
       "      <td>Pop</td>\n",
       "      <td>playin' everything so easy,\\nit's like you see...</td>\n",
       "    </tr>\n",
       "    <tr>\n",
       "      <th>2</th>\n",
       "      <td>2</td>\n",
       "      <td>honesty</td>\n",
       "      <td>2009</td>\n",
       "      <td>beyonce-knowles</td>\n",
       "      <td>Pop</td>\n",
       "      <td>If you search\\nFor tenderness\\nIt isn't hard t...</td>\n",
       "    </tr>\n",
       "    <tr>\n",
       "      <th>3</th>\n",
       "      <td>3</td>\n",
       "      <td>you-are-my-rock</td>\n",
       "      <td>2009</td>\n",
       "      <td>beyonce-knowles</td>\n",
       "      <td>Pop</td>\n",
       "      <td>Oh oh oh I, oh oh oh I\\n[Verse 1:]\\nIf I wrote...</td>\n",
       "    </tr>\n",
       "    <tr>\n",
       "      <th>4</th>\n",
       "      <td>4</td>\n",
       "      <td>black-culture</td>\n",
       "      <td>2009</td>\n",
       "      <td>beyonce-knowles</td>\n",
       "      <td>Pop</td>\n",
       "      <td>Party the people, the people the party it's po...</td>\n",
       "    </tr>\n",
       "  </tbody>\n",
       "</table>\n",
       "</div>"
      ],
      "text/plain": [
       "   index             song  year           artist genre  \\\n",
       "0      0        ego-remix  2009  beyonce-knowles   Pop   \n",
       "1      1     then-tell-me  2009  beyonce-knowles   Pop   \n",
       "2      2          honesty  2009  beyonce-knowles   Pop   \n",
       "3      3  you-are-my-rock  2009  beyonce-knowles   Pop   \n",
       "4      4    black-culture  2009  beyonce-knowles   Pop   \n",
       "\n",
       "                                              lyrics  \n",
       "0  Oh baby, how you doing?\\nYou know I'm gonna cu...  \n",
       "1  playin' everything so easy,\\nit's like you see...  \n",
       "2  If you search\\nFor tenderness\\nIt isn't hard t...  \n",
       "3  Oh oh oh I, oh oh oh I\\n[Verse 1:]\\nIf I wrote...  \n",
       "4  Party the people, the people the party it's po...  "
      ]
     },
     "execution_count": 2,
     "metadata": {},
     "output_type": "execute_result"
    }
   ],
   "source": [
    "df = pd.read_csv('lyrics.csv')\n",
    "df.head()"
   ]
  },
  {
   "cell_type": "markdown",
   "metadata": {},
   "source": []
  },
  {
   "cell_type": "code",
   "execution_count": 3,
   "metadata": {},
   "outputs": [
    {
     "data": {
      "text/plain": [
       "(362237, 6)"
      ]
     },
     "execution_count": 3,
     "metadata": {},
     "output_type": "execute_result"
    }
   ],
   "source": [
    "df.shape"
   ]
  },
  {
   "cell_type": "code",
   "execution_count": 4,
   "metadata": {
    "scrolled": false
   },
   "outputs": [
    {
     "data": {
      "text/plain": [
       "index         0\n",
       "song          2\n",
       "year          0\n",
       "artist        0\n",
       "genre         0\n",
       "lyrics    95680\n",
       "dtype: int64"
      ]
     },
     "execution_count": 4,
     "metadata": {},
     "output_type": "execute_result"
    }
   ],
   "source": [
    "df.isnull().sum()"
   ]
  },
  {
   "cell_type": "code",
   "execution_count": 5,
   "metadata": {},
   "outputs": [
    {
     "data": {
      "image/png": "[encoded data removed]",
      "text/plain": [
       "<Figure size 720x576 with 1 Axes>"
      ]
     },
     "metadata": {},
     "output_type": "display_data"
    },
    {
     "name": "stdout",
     "output_type": "stream",
     "text": [
      "total observations: 236192\n"
     ]
    }
   ],
   "source": [
    "#Cleaning text, This should catch a lot of things spacys neural networks don't.\n",
    "def text_cleaner(text):\n",
    "    text = re.sub(r'--',' ',text)\n",
    "    # Get rid of headings in square brackets.\n",
    "    text = re.sub(\"[\\[].*?[\\]]\", \"\", text)\n",
    "    # Get rid of \\n.\n",
    "    text = re.sub(r\"\\n\", \" \", text)\n",
    "    # Get rid of extra whitespace.\n",
    "    text = ' '.join(text.split())\n",
    "    return text\n",
    "\n",
    "df.dropna(inplace=True)\n",
    "df.lyrics = df.lyrics.apply(text_cleaner)\n",
    "\n",
    "#Droping all rows with null values, the 10,000 rows with out lyrics can't be used\n",
    "#and the two rows with out song ids won't be missed\n",
    "#Also droping rows where lyrics were missing, but not NAN, and Rows where genre is not available/other\n",
    "df.dropna(inplace=True)\n",
    "df.drop((df[df.genre == 'Not Available'].index),inplace=True, axis=0)\n",
    "df.drop((df[df.genre == 'Other'].index),inplace=True, axis=0)\n",
    "df.drop((df[df.lyrics.str.len() < 1].index), inplace=True, axis=0)\n",
    "\n",
    "#Class balance is way off undersampling rock which represents about a third of our data set\n",
    "#rock_index = df[df.genre == 'Rock'].index\n",
    "#select rows to drop\n",
    "#random_indices = np.random.choice(rock_index, 105000, replace=False)\n",
    "#drop selected rows\n",
    "#df.drop(random_indices, inplace=True, axis=0)\n",
    "\n",
    "#for now reducing data set to 10,000 to save time\n",
    "#df = df.sample(50000, random_state=42)\n",
    "#df.reset_index(inplace=True, drop=True)\n",
    "#df.drop('index', inplace=True, axis=1)\n",
    "\n",
    "plt.figure(figsize=(10,8))\n",
    "plt.title('Class balance')\n",
    "sns.countplot(x=\"genre\", data=df)\n",
    "plt.ylabel('Count')\n",
    "plt.xticks(rotation=45)\n",
    "plt.show()\n",
    "\n",
    "print('total observations:', df.shape[0])"
   ]
  },
  {
   "cell_type": "markdown",
   "metadata": {},
   "source": [
    "Language detection was out of the scope of this project so we're just doing a quick and dirty clean up\n",
    "with pythons' langdetect package. Droping all rows where language was not english."
   ]
  },
  {
   "cell_type": "code",
   "execution_count": 6,
   "metadata": {
    "scrolled": false
   },
   "outputs": [
    {
     "name": "stdout",
     "output_type": "stream",
     "text": [
      "en       216434\n",
      "es         5772\n",
      "de         2972\n",
      "ro         1487\n",
      "fr         1453\n",
      "id         1427\n",
      "it         1258\n",
      "pt          759\n",
      "error       665\n",
      "sw          658\n",
      "fi          442\n",
      "nl          344\n",
      "tr          312\n",
      "no          287\n",
      "tl          284\n",
      "sv          268\n",
      "hr          228\n",
      "hu          172\n",
      "so          159\n",
      "pl          130\n",
      "sq          111\n",
      "cy          107\n",
      "da           96\n",
      "ca           92\n",
      "af           81\n",
      "lt           71\n",
      "et           39\n",
      "sl           32\n",
      "vi           29\n",
      "sk           14\n",
      "cs            4\n",
      "lv            3\n",
      "ja            2\n",
      "Name: language, dtype: int64\n"
     ]
    },
    {
     "data": {
      "text/plain": [
       "(216434, 6)"
      ]
     },
     "execution_count": 6,
     "metadata": {},
     "output_type": "execute_result"
    }
   ],
   "source": [
    "def detect_try(text):\n",
    "    try:\n",
    "        return detect(text)\n",
    "    except:\n",
    "        return 'error'\n",
    "\n",
    "#Language column\n",
    "df['language'] = df.lyrics.apply(detect_try)\n",
    "print(df.language.value_counts())\n",
    "\n",
    "#droping language column and rows that aren't english\n",
    "df.drop((df[df.language != 'en'].index), inplace=True, axis=0)\n",
    "df.drop('language', inplace=True, axis=1)\n",
    "\n",
    "df.shape"
   ]
  },
  {
   "cell_type": "code",
   "execution_count": 7,
   "metadata": {
    "scrolled": false
   },
   "outputs": [
    {
     "data": {
      "image/png": "[encoded data removed]",
      "text/plain": [
       "<Figure size 720x576 with 1 Axes>"
      ]
     },
     "metadata": {},
     "output_type": "display_data"
    },
    {
     "name": "stdout",
     "output_type": "stream",
     "text": [
      "total observations: 17800\n",
      "Per Class: 1780.0\n"
     ]
    }
   ],
   "source": [
    "#Fixing class balance with under sampling\n",
    "indices_to_drop = []\n",
    "\n",
    "for X in df.genre.unique():\n",
    "    #get all indices for X genre\n",
    "    indices_x = df[df.genre == X].index\n",
    "    #how many to drop\n",
    "    num = len(indices_x) - (df.genre.value_counts().min())\n",
    "    #randomly select indeces to drop\n",
    "    random_indices = list(np.random.choice(indices_x, num, replace=False))\n",
    "    indices_to_drop += random_indices\n",
    "    \n",
    "df.drop(indices_to_drop, inplace=True, axis=0)\n",
    "    \n",
    "plt.figure(figsize=(10,8))\n",
    "plt.title('Class balance')\n",
    "sns.countplot(x=\"genre\", data=df)\n",
    "plt.ylabel('Count')\n",
    "plt.xticks(rotation=45)\n",
    "plt.show()\n",
    "\n",
    "print('total observations:', df.shape[0])\n",
    "print('Per Class:', df.shape[0] / 10)"
   ]
  },
  {
   "cell_type": "markdown",
   "metadata": {},
   "source": [
    "# Class Balance\n",
    "\n",
    "Here we are using undersampling to balance our classes. One of the benefits of using undersampling is that we can reduce bias when compared to oversampling. Oversampling usually introduces a lot of bias by duplicating rows, which makes predictions easier because it's predicting a song it has seen before. By balancing our classes this way accuracy also becomes a strong metric. Here with ten equally balanced classes we know that a random guess has 10% accuracy. We also use stratification on our train test split which keeps this balance intact."
   ]
  },
  {
   "cell_type": "code",
   "execution_count": 8,
   "metadata": {
    "scrolled": false
   },
   "outputs": [],
   "source": [
    "#removing chained assignment warning\n",
    "pd.options.mode.chained_assignment = None\n",
    "\n",
    "#change out put options\n",
    "pd.set_option('display.max_colwidth', 300)\n",
    "\n",
    "#method for getting Lemmas from our Spacy Docs for TFIDF\n",
    "def doc2lemmas(nlpdoc):\n",
    "    doc = []\n",
    "    for token in nlpdoc:\n",
    "        if token.lemma_ == '-PRON-':\n",
    "            doc.append(token.text)\n",
    "        elif token.is_punct:\n",
    "            pass\n",
    "        else:\n",
    "            doc.append(token.lemma_.lower())\n",
    "    doc = ' '.join(doc)\n",
    "    return doc\n",
    "\n",
    "\n",
    "#This spacy model has 1.1 million word embeddings that will help us generate our doc vectors.\n",
    "#Get vectors\n",
    "nlp = spacy.load('en_vectors_web_lg')\n",
    "vectors = [] \n",
    "\n",
    "for doc in nlp.pipe(iter(df['lyrics']),batch_size=256):\n",
    "    vectors.append(doc.vector)\n",
    "\n",
    "#Get lemmas\n",
    "nlp = spacy.load('en')\n",
    "sentences = []\n",
    "\n",
    "for doc in nlp.pipe(iter(df['lyrics']),batch_size=256):\n",
    "    sentences.append(doc2lemmas(doc))\n",
    "\n",
    "#column of lemmas\n",
    "df['lemmas'] = sentences\n",
    "df.lemmas.head()\n",
    "\n",
    "##Create vector DF and concat to our original DF\n",
    "vector_df = pd.DataFrame(vectors)\n",
    "vector_df.reset_index(drop=True, inplace=True)\n",
    "df.reset_index(drop=True, inplace=True)\n",
    "df = pd.concat([df, vector_df], axis=1)"
   ]
  },
  {
   "cell_type": "code",
   "execution_count": 9,
   "metadata": {},
   "outputs": [
    {
     "data": {
      "text/plain": [
       "0    This is for my fans (Uhu, uhu) This is for my destiny (Uhu, uhu) This is for my fans (Uhu, uhu) This is for my future love (Uhu, uhu) This is for my best friend (Uhu, uhu) This is for my future children (Uhu, uhu) This is for my mother This is for the mother future You were my best friend and I ...\n",
       "1    Baby I see you That look in your eyes Hips that keep shaking mysterious style exotically tempting familiar to me That Creole Sexy it's all over me So all my redbones get on the floor and all my yellow bones get on the floor and all my brown bones get on the floor Then you mix it up and call it C...\n",
       "Name: lyrics, dtype: object"
      ]
     },
     "execution_count": 9,
     "metadata": {},
     "output_type": "execute_result"
    }
   ],
   "source": [
    "df.lyrics.head(2)"
   ]
  },
  {
   "cell_type": "code",
   "execution_count": 10,
   "metadata": {
    "scrolled": true
   },
   "outputs": [
    {
     "data": {
      "text/plain": [
       "0    this be for my fan uhu uhu this be for my destiny uhu uhu this be for my fan uhu uhu this be for my future love uhu uhu this be for my good friend uhu uhu this be for my future child uhu uhu this be for my mother this be for the mother future You be my good friend and I love you You be always th...\n",
       "1    baby I see you that look in your eye hips that keep shake mysterious style exotically tempt familiar to me that creole sexy it be all over me so all my redbone get on the floor and all my yellow bone get on the floor and all my brown bone get on the floor then you mix it up and call it creole cr...\n",
       "Name: lemmas, dtype: object"
      ]
     },
     "execution_count": 10,
     "metadata": {},
     "output_type": "execute_result"
    }
   ],
   "source": [
    "df.lemmas.head(2)"
   ]
  },
  {
   "cell_type": "code",
   "execution_count": 11,
   "metadata": {},
   "outputs": [
    {
     "data": {
      "text/html": [
       "<div>\n",
       "<style scoped>\n",
       "    .dataframe tbody tr th:only-of-type {\n",
       "        vertical-align: middle;\n",
       "    }\n",
       "\n",
       "    .dataframe tbody tr th {\n",
       "        vertical-align: top;\n",
       "    }\n",
       "\n",
       "    .dataframe thead th {\n",
       "        text-align: right;\n",
       "    }\n",
       "</style>\n",
       "<table border=\"1\" class=\"dataframe\">\n",
       "  <thead>\n",
       "    <tr style=\"text-align: right;\">\n",
       "      <th></th>\n",
       "      <th>0</th>\n",
       "      <th>1</th>\n",
       "      <th>2</th>\n",
       "      <th>3</th>\n",
       "      <th>4</th>\n",
       "      <th>5</th>\n",
       "      <th>6</th>\n",
       "      <th>7</th>\n",
       "      <th>8</th>\n",
       "      <th>9</th>\n",
       "      <th>...</th>\n",
       "      <th>290</th>\n",
       "      <th>291</th>\n",
       "      <th>292</th>\n",
       "      <th>293</th>\n",
       "      <th>294</th>\n",
       "      <th>295</th>\n",
       "      <th>296</th>\n",
       "      <th>297</th>\n",
       "      <th>298</th>\n",
       "      <th>299</th>\n",
       "    </tr>\n",
       "  </thead>\n",
       "  <tbody>\n",
       "    <tr>\n",
       "      <th>0</th>\n",
       "      <td>-0.044684</td>\n",
       "      <td>0.213144</td>\n",
       "      <td>-0.306956</td>\n",
       "      <td>-0.017865</td>\n",
       "      <td>0.081031</td>\n",
       "      <td>0.001832</td>\n",
       "      <td>0.032098</td>\n",
       "      <td>-0.136113</td>\n",
       "      <td>-0.010076</td>\n",
       "      <td>2.172359</td>\n",
       "      <td>...</td>\n",
       "      <td>-0.176646</td>\n",
       "      <td>0.020181</td>\n",
       "      <td>-0.025062</td>\n",
       "      <td>-0.035812</td>\n",
       "      <td>0.159360</td>\n",
       "      <td>-0.062664</td>\n",
       "      <td>0.058222</td>\n",
       "      <td>0.020022</td>\n",
       "      <td>0.031385</td>\n",
       "      <td>0.101767</td>\n",
       "    </tr>\n",
       "    <tr>\n",
       "      <th>1</th>\n",
       "      <td>-0.153793</td>\n",
       "      <td>0.167198</td>\n",
       "      <td>-0.226040</td>\n",
       "      <td>-0.042893</td>\n",
       "      <td>0.114116</td>\n",
       "      <td>0.050089</td>\n",
       "      <td>-0.022511</td>\n",
       "      <td>-0.150817</td>\n",
       "      <td>0.025760</td>\n",
       "      <td>2.057230</td>\n",
       "      <td>...</td>\n",
       "      <td>-0.154730</td>\n",
       "      <td>0.014669</td>\n",
       "      <td>-0.066197</td>\n",
       "      <td>-0.116918</td>\n",
       "      <td>0.028982</td>\n",
       "      <td>0.060921</td>\n",
       "      <td>-0.057644</td>\n",
       "      <td>-0.117327</td>\n",
       "      <td>0.092041</td>\n",
       "      <td>0.110347</td>\n",
       "    </tr>\n",
       "  </tbody>\n",
       "</table>\n",
       "<p>2 rows × 300 columns</p>\n",
       "</div>"
      ],
      "text/plain": [
       "        0         1         2         3         4         5         6    \\\n",
       "0 -0.044684  0.213144 -0.306956 -0.017865  0.081031  0.001832  0.032098   \n",
       "1 -0.153793  0.167198 -0.226040 -0.042893  0.114116  0.050089 -0.022511   \n",
       "\n",
       "        7         8         9      ...          290       291       292  \\\n",
       "0 -0.136113 -0.010076  2.172359    ...    -0.176646  0.020181 -0.025062   \n",
       "1 -0.150817  0.025760  2.057230    ...    -0.154730  0.014669 -0.066197   \n",
       "\n",
       "        293       294       295       296       297       298       299  \n",
       "0 -0.035812  0.159360 -0.062664  0.058222  0.020022  0.031385  0.101767  \n",
       "1 -0.116918  0.028982  0.060921 -0.057644 -0.117327  0.092041  0.110347  \n",
       "\n",
       "[2 rows x 300 columns]"
      ]
     },
     "execution_count": 11,
     "metadata": {},
     "output_type": "execute_result"
    }
   ],
   "source": [
    "#Document vectors based on word embeddings\n",
    "df.loc[:,~df.columns.isin(['index', 'song', 'year', 'artist', 'genre', 'lyrics', 'lemmas'])].head(2)"
   ]
  },
  {
   "cell_type": "code",
   "execution_count": 12,
   "metadata": {},
   "outputs": [],
   "source": [
    "def model_support(clf, X_train, y_train, X_test, y_test):\n",
    "    clf.fit(X_train, y_train)\n",
    "    print(clf.score(X_train, y_train), ':word embedings train score')\n",
    "    print(clf.score(X_test, y_test), ':word embedings test score\\n')\n",
    "\n",
    "def model_support2(clf, X_train_tfidf, y_train, X_test_tfidf, y_test):\n",
    "    clf.fit(X_train_tfidf, y_train)\n",
    "    print(clf.score(X_train_tfidf, y_train), ':tfidf w/ LSA train score')\n",
    "    print(clf.score(X_test_tfidf, y_test), ':tfidf  w/ LSA test score')\n",
    "\n",
    "\n",
    "#Transform lemmas into TF-IDF\n",
    "vectorizer = TfidfVectorizer(\n",
    "    max_df=0.5,\n",
    "    min_df=2, stop_words='english',\n",
    "    lowercase=True, use_idf=True,norm=u'l2',\n",
    "    smooth_idf=True\n",
    ")\n",
    "X_tfidf = vectorizer.fit_transform(df.lemmas)\n",
    "\n",
    "#Latent Semantic Analysis on TF-IDF\n",
    "svd = TruncatedSVD(500)\n",
    "X_tfidf = svd.fit_transform(X_tfidf)\n",
    "\n",
    "#word2vec Data\n",
    "X = df.loc[:,~df.columns.isin(['index', 'song', 'year', 'artist', 'genre', 'lyrics', 'lemmas'])]\n",
    "y = df.loc[:,'genre']\n",
    "\n",
    "#Split embeddings and tfidf with same random seed\n",
    "X_train, X_test, y_train, y_test = train_test_split(X, y, test_size=0.20, stratify=y, random_state=42)\n",
    "X_train_tfidf, X_test_tfidf = train_test_split(X_tfidf, test_size=0.20, stratify=y, random_state=42)"
   ]
  },
  {
   "cell_type": "code",
   "execution_count": 13,
   "metadata": {},
   "outputs": [
    {
     "name": "stdout",
     "output_type": "stream",
     "text": [
      "0.43293539325842695 :word embedings train score\n",
      "0.3865168539325843 :word embedings test score\n",
      "\n",
      "0.45484550561797754 :tfidf w/ LSA train score\n",
      "0.3646067415730337 :tfidf  w/ LSA test score\n"
     ]
    }
   ],
   "source": [
    "svc = LinearSVC(C=1, random_state=42)\n",
    "\n",
    "model_support(svc, X_train, y_train, X_test, y_test)\n",
    "\n",
    "svc = LinearSVC(C=1, random_state=42)\n",
    "\n",
    "model_support2(svc, X_train_tfidf, y_train, X_test_tfidf, y_test)"
   ]
  },
  {
   "cell_type": "code",
   "execution_count": 14,
   "metadata": {},
   "outputs": [
    {
     "name": "stdout",
     "output_type": "stream",
     "text": [
      "0.9971910112359551 :word embedings train score\n",
      "0.399438202247191 :word embedings test score\n",
      "\n",
      "0.996629213483146 :tfidf w/ LSA train score\n",
      "0.3603932584269663 :tfidf  w/ LSA test score\n"
     ]
    }
   ],
   "source": [
    "gbc = GradientBoostingClassifier(max_depth=6, n_estimators=500, learning_rate=.1)\n",
    "\n",
    "model_support(gbc, X_train, y_train, X_test, y_test)\n",
    "\n",
    "gbc = GradientBoostingClassifier(max_depth=6, n_estimators=500, learning_rate=.1)\n",
    "\n",
    "model_support2(gbc, X_train_tfidf, y_train, X_test_tfidf, y_test)"
   ]
  },
  {
   "cell_type": "code",
   "execution_count": 15,
   "metadata": {},
   "outputs": [
    {
     "name": "stdout",
     "output_type": "stream",
     "text": [
      "0.9972612359550562 :word embedings train score\n",
      "0.3146067415730337 :word embedings test score\n",
      "\n",
      "0.9968398876404494 :tfidf w/ LSA train score\n",
      "0.26292134831460673 :tfidf  w/ LSA test score\n"
     ]
    }
   ],
   "source": [
    "knn = KNeighborsClassifier(n_neighbors=9, weights='distance')\n",
    "\n",
    "model_support(knn, X_train, y_train, X_test, y_test)\n",
    "\n",
    "knn = KNeighborsClassifier(n_neighbors=9, weights='distance')\n",
    "\n",
    "model_support2(knn, X_train_tfidf, y_train, X_test_tfidf, y_test)"
   ]
  },
  {
   "cell_type": "code",
   "execution_count": 16,
   "metadata": {},
   "outputs": [
    {
     "name": "stdout",
     "output_type": "stream",
     "text": [
      "0.4377808988764045 :word embedings train score\n",
      "0.3943820224719101 :word embedings test score\n",
      "\n",
      "0.4584269662921348 :tfidf w/ LSA train score\n",
      "0.3634831460674157 :tfidf  w/ LSA test score\n"
     ]
    }
   ],
   "source": [
    "lr = LogisticRegression(C=5)\n",
    "\n",
    "model_support(lr, X_train, y_train, X_test, y_test)\n",
    "\n",
    "lr = LogisticRegression(C=5)\n",
    "\n",
    "model_support2(lr, X_train_tfidf, y_train, X_test_tfidf, y_test)"
   ]
  },
  {
   "cell_type": "code",
   "execution_count": 17,
   "metadata": {},
   "outputs": [
    {
     "name": "stdout",
     "output_type": "stream",
     "text": [
      "0.6535112359550562 :word embedings train score\n",
      "0.3929775280898876 :word embedings test score\n",
      "\n",
      "0.9945926966292135 :tfidf w/ LSA train score\n",
      "0.3643258426966292 :tfidf  w/ LSA test score\n"
     ]
    }
   ],
   "source": [
    "mlp = MLPClassifier(hidden_layer_sizes=(155,), max_iter=400)\n",
    "\n",
    "model_support(mlp, X_train, y_train, X_test, y_test)\n",
    "\n",
    "mlp = MLPClassifier(hidden_layer_sizes=(255,), max_iter=400)\n",
    "\n",
    "model_support2(mlp, X_train_tfidf, y_train, X_test_tfidf, y_test)"
   ]
  },
  {
   "cell_type": "markdown",
   "metadata": {},
   "source": [
    "# Supervised Summary\n",
    "\n",
    "Logistic regression and Multi Layer Perceptrons were very close. Logistic regression with word embeddings had the highest score on test. The accuracy is about 40%. Which is a bit dissapointing because it isn't practical in a real world application. However the model does have quiet a bit of predictive power. Recall that a random guess has 10% accuracy.\n",
    "\n",
    "We could improve this model a couple of ways. We could try more cutting edge techniques, like word2vecs document vectors with paragraph vectors(PV-DM). Deep neural nets are also something i'm looking forward to learning, and LSTMs appear to be leading the way in this area of natural language processing. However, if we wanted to get this to work in a production or real world setting, I think we would likely need more relevant data, like beats per minute, and other audio related data. Predicting a song genre based on just the lyrics appears to be a pretty difficult task."
   ]
  },
  {
   "cell_type": "code",
   "execution_count": 18,
   "metadata": {},
   "outputs": [
    {
     "name": "stdout",
     "output_type": "stream",
     "text": [
      "variance explained by each feature: [0.17938444 0.11023059]\n"
     ]
    },
    {
     "data": {
      "image/png": "[encoded data removed]",
      "text/plain": [
       "<Figure size 440.125x360 with 1 Axes>"
      ]
     },
     "metadata": {},
     "output_type": "display_data"
    }
   ],
   "source": [
    "#Creating PCA data frame for visualizations\n",
    "from sklearn.decomposition import PCA\n",
    "pca = PCA(n_components=2)\n",
    "X_pca = pca.fit_transform(X)\n",
    "X_pca = np.hstack((X_pca, y[:,None]))\n",
    "\n",
    "X_pca = pd.DataFrame(X_pca, columns=['PCA Feature 1', 'PCA Feature 2', 'genre'])\n",
    "print('variance explained by each feature:', pca.explained_variance_)\n",
    "\n",
    "#plot data with seaborn\n",
    "sns.lmplot(data=X_pca, x='PCA Feature 1', y='PCA Feature 2', hue='genre', fit_reg=False)\n",
    "plt.title('Songs')\n",
    "plt.show()"
   ]
  },
  {
   "cell_type": "markdown",
   "metadata": {},
   "source": [
    "Visualizing our data in two dimensions through feature reduction, Principal Component Analysis. There doesn't appear to be any meaningful data structure in this space. lets check our clustering methods for silhouette score. Also doesn't look applicable to use a model like K-means."
   ]
  },
  {
   "cell_type": "code",
   "execution_count": 27,
   "metadata": {},
   "outputs": [
    {
     "name": "stdout",
     "output_type": "stream",
     "text": [
      "number of clusters: 2\n",
      "silhouette score: 0.5791238645522929\n"
     ]
    }
   ],
   "source": [
    "from sklearn.cluster import MeanShift, estimate_bandwidth, SpectralClustering, AffinityPropagation\n",
    "from sklearn.metrics import silhouette_score\n",
    "\n",
    "bandwidth = estimate_bandwidth(X, quantile=.5, n_samples=1000, random_state=42)\n",
    "\n",
    "ms = MeanShift(bandwidth=bandwidth, bin_seeding=True)\n",
    "ms.fit(X)\n",
    "\n",
    "labels = ms.labels_\n",
    "print('number of clusters: {}'.format(len(np.unique(labels))))\n",
    "print('silhouette score:', silhouette_score(X, labels, metric='euclidean'))"
   ]
  },
  {
   "cell_type": "code",
   "execution_count": 33,
   "metadata": {
    "scrolled": false
   },
   "outputs": [
    {
     "data": {
      "image/png": "[encoded data removed]",
      "text/plain": [
       "<Figure size 401.625x360 with 1 Axes>"
      ]
     },
     "metadata": {},
     "output_type": "display_data"
    }
   ],
   "source": [
    "X_pca['Labels'] = labels\n",
    "\n",
    "#plot data with seaborn\n",
    "sns.lmplot(data=X_pca, x='PCA Feature 1', y='PCA Feature 2', hue='Labels', fit_reg=False)\n",
    "plt.title('Mean Shift Clusters')\n",
    "plt.show()"
   ]
  },
  {
   "cell_type": "markdown",
   "metadata": {},
   "source": [
    "If there was any structure in our original visual, this is it. The silhouette score for this clustering model looks fair with 57. Lets take a look at the lyrics of this cluster."
   ]
  },
  {
   "cell_type": "code",
   "execution_count": 32,
   "metadata": {
    "scrolled": false
   },
   "outputs": [
    {
     "data": {
      "text/plain": [
       "367                                                                                                                                                                                                                                                                                 (Music by Nergal) Instrumental\n",
       "504                                                                                                                                                                                                    50 Cent Ft. Snoop Dogg & Precious Paris - Remain Calm 50 Cent Ft. Snoop Dogg & Precious Paris - Remain Calm\n",
       "605    Pour Hector et Pascale, Amber,Tamise, Fanette et sa famille FinistÃ¨re rÃªvÃ© le matin Ã l'est Ãle de RÃ© quatre Ã six Pique-nique souriant ouest Vent sud est revenant ouest sur ses fesses Ã midi prÃ¨s du cap Pour Fanette ce lundi vent d'ouest rÃ©crÃ© trois Ã cinq Puis fraises et champs cinq Ã ...\n",
       "761    Come, they told me pa rum pum pum pum Our newborn King to see pa rum pum pum pum Our finest gifts we bring pa rum pum pum pum To lay before the King pa rum pum pum pum Rum pum pum pum, rum pum pum pum So to honor Him pa rum pum pum pum When we come Little Baby pa rum pum pum pum I am a poor boy ...\n",
       "980    Don oche d i mBeithil, beidh tagairt ar ghrin go brch, Don oche d i mBeithil go dtinig an Bhrithir sln; T grosghrua ar sparthaibh 's an talamh 'na chldach bn; Fach osagn sa chlibhn, 's an Mhaighdean ' dhil le gr Ar leacain lom an tslibhe go nglacann na haoir scth Nuair in oscailt ghil na spire t...\n",
       "Name: Lyrics, dtype: object"
      ]
     },
     "execution_count": 32,
     "metadata": {},
     "output_type": "execute_result"
    }
   ],
   "source": [
    "X_pca['Lyrics'] = df.lyrics\n",
    "X_pca.Lyrics[X_pca.Labels == 1].head(5)"
   ]
  },
  {
   "cell_type": "markdown",
   "metadata": {},
   "source": [
    "## Mean Shift Summary\n",
    "\n",
    "So it looks like this cluster is actually picking up on oddities. Things like instrumentals, bilingual songs, and written sounds. Our word vector library only contains english words, so it is not going to do a good job of finding a proper vector for these songs. That explains why they're in their own cluster. We could potentially use this cluster to do a better job of cleaning our data set."
   ]
  },
  {
   "cell_type": "code",
   "execution_count": 25,
   "metadata": {},
   "outputs": [
    {
     "name": "stdout",
     "output_type": "stream",
     "text": [
      "Comparing the assigned categories to the ones in the data:\n",
      "\n",
      "col_0         0    1    2    3    4    5    6    7    8    9\n",
      "genre                                                       \n",
      "Country     108  282   39  215  228  232   70  159  174  273\n",
      "Electronic  131  229   70  186  155  246  259  170  122  212\n",
      "Folk        243  134   32  216  361  103  195   69  246  181\n",
      "Hip-Hop      37   33  792   33   73   95   71  297  264   85\n",
      "Indie       170  266   27  295  204  242   79  107  112  278\n",
      "Jazz        106  205   60  186  201  222  131  196  216  257\n",
      "Metal       542  110   19  238  430   70  150   28   51  142\n",
      "Pop          81  272   59  212  119  383  104  236  105  209\n",
      "R&B          54  189   64  149  126  391  123  348  112  224\n",
      "Rock        176  226   49  256  198  228  116  173  142  216\n",
      "\n",
      "Counts for each clsuter label in order: [1648 1946 1211 1986 2095 2212 1298 1783 1544 2077]\n",
      "\n",
      "Adjusted Rand Score 0.041285541695129324\n"
     ]
    }
   ],
   "source": [
    "from sklearn.cluster import SpectralClustering\n",
    "from sklearn.metrics import adjusted_rand_score\n",
    "\n",
    "sc = SpectralClustering(n_clusters=10)\n",
    "sc.fit(X)\n",
    "\n",
    "predict = sc.fit_predict(X)\n",
    "\n",
    "print('Comparing the assigned categories to the ones in the data:\\n')\n",
    "print(pd.crosstab(y, predict))\n",
    "print('\\nCounts for each clsuter label in order:', np.unique(predict, return_counts=True)[1])\n",
    "print('\\nAdjusted Rand Score', adjusted_rand_score(y, predict))"
   ]
  },
  {
   "cell_type": "markdown",
   "metadata": {},
   "source": [
    "Spectral Clustering did not pick up on the genre structure as we had hoped. The rand score shows that our clusters are random, and show no similarities to our genre labels."
   ]
  }
 ],
 "metadata": {
  "kernelspec": {
   "display_name": "Python 3",
   "language": "python",
   "name": "python3"
  },
  "language_info": {
   "codemirror_mode": {
    "name": "ipython",
    "version": 3
   },
   "file_extension": ".py",
   "mimetype": "text/x-python",
   "name": "python",
   "nbconvert_exporter": "python",
   "pygments_lexer": "ipython3",
   "version": "3.6.5"
  }
 },
 "nbformat": 4,
 "nbformat_minor": 2
}
